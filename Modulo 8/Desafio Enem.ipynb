{
 "cells": [
  {
   "cell_type": "code",
   "execution_count": 21,
   "metadata": {},
   "outputs": [],
   "source": [
    "import numpy as np\n",
    "import pandas as pd\n",
    "import seaborn as sns\n",
    "import matplotlib.pylab as plt \n",
    "from sklearn.model_selection import RandomizedSearchCV, KFold, cross_val_score\n",
    "from sklearn.preprocessing import StandardScaler, MinMaxScaler\n",
    "from sklearn.pipeline import Pipeline\n",
    "from sklearn.ensemble import GradientBoostingRegressor, RandomForestRegressor\n",
    "import sklearn.metrics as metrics"
   ]
  },
  {
   "cell_type": "code",
   "execution_count": 22,
   "metadata": {},
   "outputs": [],
   "source": [
    "df_train = pd.read_csv('train.csv', sep=\",\" , encoding = \"UTF8\" )\n",
    "df_test2 = pd.read_csv('test.csv', sep=\",\" , encoding = \"UTF8\" )"
   ]
  },
  {
   "cell_type": "code",
   "execution_count": 23,
   "metadata": {},
   "outputs": [],
   "source": [
    "df_train1 = pd.read_csv('train.csv', sep=\",\" , encoding=\"UTF8\", usecols = [\n",
    "    'NU_NOTA_MT',   \n",
    "    'NU_NOTA_CN',\n",
    "    'NU_NOTA_CH',\n",
    "    'NU_NOTA_LC',\n",
    "    'NU_NOTA_REDACAO',\n",
    "    'NU_NOTA_COMP1',\n",
    "    'NU_NOTA_COMP2',\n",
    "    'NU_NOTA_COMP3',\n",
    "    'NU_NOTA_COMP4',\n",
    "    'NU_NOTA_COMP5',\n",
    "    'NU_IDADE',\n",
    "    'TP_COR_RACA',\n",
    "    'TP_ESCOLA'] )"
   ]
  },
  {
   "cell_type": "code",
   "execution_count": 24,
   "metadata": {},
   "outputs": [],
   "source": [
    "df_test1 = pd.read_csv('test.csv', sep=\",\" , encoding=\"UTF8\" , usecols = [\n",
    "    'NU_NOTA_CN',\n",
    "    'NU_NOTA_CH',\n",
    "    'NU_NOTA_LC',\n",
    "    'NU_NOTA_REDACAO',\n",
    "    'NU_NOTA_COMP1',\n",
    "    'NU_NOTA_COMP2',\n",
    "    'NU_NOTA_COMP3',\n",
    "    'NU_NOTA_COMP4',\n",
    "    'NU_NOTA_COMP5',\n",
    "    'NU_IDADE',\n",
    "    'TP_COR_RACA',\n",
    "    'TP_ESCOLA'])"
   ]
  },
  {
   "cell_type": "code",
   "execution_count": 25,
   "metadata": {},
   "outputs": [
    {
     "data": {
      "text/html": [
       "<div>\n",
       "<style scoped>\n",
       "    .dataframe tbody tr th:only-of-type {\n",
       "        vertical-align: middle;\n",
       "    }\n",
       "\n",
       "    .dataframe tbody tr th {\n",
       "        vertical-align: top;\n",
       "    }\n",
       "\n",
       "    .dataframe thead th {\n",
       "        text-align: right;\n",
       "    }\n",
       "</style>\n",
       "<table border=\"1\" class=\"dataframe\">\n",
       "  <thead>\n",
       "    <tr style=\"text-align: right;\">\n",
       "      <th></th>\n",
       "      <th>NU_IDADE</th>\n",
       "      <th>TP_COR_RACA</th>\n",
       "      <th>TP_ESCOLA</th>\n",
       "      <th>NU_NOTA_CN</th>\n",
       "      <th>NU_NOTA_CH</th>\n",
       "      <th>NU_NOTA_LC</th>\n",
       "      <th>NU_NOTA_COMP1</th>\n",
       "      <th>NU_NOTA_COMP2</th>\n",
       "      <th>NU_NOTA_COMP3</th>\n",
       "      <th>NU_NOTA_COMP4</th>\n",
       "      <th>NU_NOTA_COMP5</th>\n",
       "      <th>NU_NOTA_REDACAO</th>\n",
       "    </tr>\n",
       "  </thead>\n",
       "  <tbody>\n",
       "    <tr>\n",
       "      <th>0</th>\n",
       "      <td>22</td>\n",
       "      <td>3</td>\n",
       "      <td>1</td>\n",
       "      <td>464.8</td>\n",
       "      <td>443.5</td>\n",
       "      <td>431.8</td>\n",
       "      <td>120.0</td>\n",
       "      <td>80.0</td>\n",
       "      <td>80.0</td>\n",
       "      <td>100.0</td>\n",
       "      <td>40.0</td>\n",
       "      <td>420.0</td>\n",
       "    </tr>\n",
       "    <tr>\n",
       "      <th>1</th>\n",
       "      <td>26</td>\n",
       "      <td>3</td>\n",
       "      <td>1</td>\n",
       "      <td>391.1</td>\n",
       "      <td>491.1</td>\n",
       "      <td>548.0</td>\n",
       "      <td>120.0</td>\n",
       "      <td>120.0</td>\n",
       "      <td>120.0</td>\n",
       "      <td>120.0</td>\n",
       "      <td>100.0</td>\n",
       "      <td>580.0</td>\n",
       "    </tr>\n",
       "    <tr>\n",
       "      <th>2</th>\n",
       "      <td>21</td>\n",
       "      <td>1</td>\n",
       "      <td>2</td>\n",
       "      <td>595.9</td>\n",
       "      <td>622.7</td>\n",
       "      <td>613.6</td>\n",
       "      <td>80.0</td>\n",
       "      <td>40.0</td>\n",
       "      <td>40.0</td>\n",
       "      <td>80.0</td>\n",
       "      <td>80.0</td>\n",
       "      <td>320.0</td>\n",
       "    </tr>\n",
       "    <tr>\n",
       "      <th>3</th>\n",
       "      <td>27</td>\n",
       "      <td>3</td>\n",
       "      <td>1</td>\n",
       "      <td>NaN</td>\n",
       "      <td>NaN</td>\n",
       "      <td>NaN</td>\n",
       "      <td>NaN</td>\n",
       "      <td>NaN</td>\n",
       "      <td>NaN</td>\n",
       "      <td>NaN</td>\n",
       "      <td>NaN</td>\n",
       "      <td>NaN</td>\n",
       "    </tr>\n",
       "    <tr>\n",
       "      <th>4</th>\n",
       "      <td>18</td>\n",
       "      <td>1</td>\n",
       "      <td>2</td>\n",
       "      <td>592.9</td>\n",
       "      <td>492.6</td>\n",
       "      <td>571.4</td>\n",
       "      <td>100.0</td>\n",
       "      <td>80.0</td>\n",
       "      <td>60.0</td>\n",
       "      <td>80.0</td>\n",
       "      <td>0.0</td>\n",
       "      <td>320.0</td>\n",
       "    </tr>\n",
       "  </tbody>\n",
       "</table>\n",
       "</div>"
      ],
      "text/plain": [
       "   NU_IDADE  TP_COR_RACA  TP_ESCOLA  NU_NOTA_CN  NU_NOTA_CH  NU_NOTA_LC  \\\n",
       "0        22            3          1       464.8       443.5       431.8   \n",
       "1        26            3          1       391.1       491.1       548.0   \n",
       "2        21            1          2       595.9       622.7       613.6   \n",
       "3        27            3          1         NaN         NaN         NaN   \n",
       "4        18            1          2       592.9       492.6       571.4   \n",
       "\n",
       "   NU_NOTA_COMP1  NU_NOTA_COMP2  NU_NOTA_COMP3  NU_NOTA_COMP4  NU_NOTA_COMP5  \\\n",
       "0          120.0           80.0           80.0          100.0           40.0   \n",
       "1          120.0          120.0          120.0          120.0          100.0   \n",
       "2           80.0           40.0           40.0           80.0           80.0   \n",
       "3            NaN            NaN            NaN            NaN            NaN   \n",
       "4          100.0           80.0           60.0           80.0            0.0   \n",
       "\n",
       "   NU_NOTA_REDACAO  \n",
       "0            420.0  \n",
       "1            580.0  \n",
       "2            320.0  \n",
       "3              NaN  \n",
       "4            320.0  "
      ]
     },
     "execution_count": 25,
     "metadata": {},
     "output_type": "execute_result"
    }
   ],
   "source": [
    "# verifica o que foi importado\n",
    "df_train1.head()\n",
    "df_test1.head()"
   ]
  },
  {
   "cell_type": "code",
   "execution_count": 26,
   "metadata": {},
   "outputs": [
    {
     "data": {
      "text/html": [
       "<div>\n",
       "<style scoped>\n",
       "    .dataframe tbody tr th:only-of-type {\n",
       "        vertical-align: middle;\n",
       "    }\n",
       "\n",
       "    .dataframe tbody tr th {\n",
       "        vertical-align: top;\n",
       "    }\n",
       "\n",
       "    .dataframe thead th {\n",
       "        text-align: right;\n",
       "    }\n",
       "</style>\n",
       "<table border=\"1\" class=\"dataframe\">\n",
       "  <thead>\n",
       "    <tr style=\"text-align: right;\">\n",
       "      <th></th>\n",
       "      <th>NU_IDADE</th>\n",
       "      <th>TP_COR_RACA</th>\n",
       "      <th>TP_ESCOLA</th>\n",
       "      <th>NU_NOTA_CN</th>\n",
       "      <th>NU_NOTA_CH</th>\n",
       "      <th>NU_NOTA_LC</th>\n",
       "      <th>NU_NOTA_MT</th>\n",
       "      <th>NU_NOTA_COMP1</th>\n",
       "      <th>NU_NOTA_COMP2</th>\n",
       "      <th>NU_NOTA_COMP3</th>\n",
       "      <th>NU_NOTA_COMP4</th>\n",
       "      <th>NU_NOTA_COMP5</th>\n",
       "      <th>NU_NOTA_REDACAO</th>\n",
       "    </tr>\n",
       "  </thead>\n",
       "  <tbody>\n",
       "    <tr>\n",
       "      <th>count</th>\n",
       "      <td>13730.000000</td>\n",
       "      <td>13730.000000</td>\n",
       "      <td>13730.000000</td>\n",
       "      <td>10341.000000</td>\n",
       "      <td>10341.000000</td>\n",
       "      <td>10133.000000</td>\n",
       "      <td>10133.000000</td>\n",
       "      <td>10133.000000</td>\n",
       "      <td>10133.000000</td>\n",
       "      <td>10133.000000</td>\n",
       "      <td>10133.000000</td>\n",
       "      <td>10133.000000</td>\n",
       "      <td>10133.000000</td>\n",
       "    </tr>\n",
       "    <tr>\n",
       "      <th>mean</th>\n",
       "      <td>21.593809</td>\n",
       "      <td>2.185652</td>\n",
       "      <td>1.353532</td>\n",
       "      <td>473.495155</td>\n",
       "      <td>529.661087</td>\n",
       "      <td>516.472841</td>\n",
       "      <td>482.497928</td>\n",
       "      <td>119.811704</td>\n",
       "      <td>111.915918</td>\n",
       "      <td>106.824238</td>\n",
       "      <td>113.123951</td>\n",
       "      <td>77.372446</td>\n",
       "      <td>529.048258</td>\n",
       "    </tr>\n",
       "    <tr>\n",
       "      <th>std</th>\n",
       "      <td>7.043654</td>\n",
       "      <td>1.007285</td>\n",
       "      <td>0.558472</td>\n",
       "      <td>71.093674</td>\n",
       "      <td>73.726344</td>\n",
       "      <td>68.688190</td>\n",
       "      <td>99.826323</td>\n",
       "      <td>29.846017</td>\n",
       "      <td>33.737588</td>\n",
       "      <td>34.341349</td>\n",
       "      <td>33.480033</td>\n",
       "      <td>43.067140</td>\n",
       "      <td>154.294758</td>\n",
       "    </tr>\n",
       "    <tr>\n",
       "      <th>min</th>\n",
       "      <td>13.000000</td>\n",
       "      <td>0.000000</td>\n",
       "      <td>1.000000</td>\n",
       "      <td>0.000000</td>\n",
       "      <td>0.000000</td>\n",
       "      <td>0.000000</td>\n",
       "      <td>0.000000</td>\n",
       "      <td>0.000000</td>\n",
       "      <td>0.000000</td>\n",
       "      <td>0.000000</td>\n",
       "      <td>0.000000</td>\n",
       "      <td>0.000000</td>\n",
       "      <td>0.000000</td>\n",
       "    </tr>\n",
       "    <tr>\n",
       "      <th>25%</th>\n",
       "      <td>17.000000</td>\n",
       "      <td>1.000000</td>\n",
       "      <td>1.000000</td>\n",
       "      <td>419.900000</td>\n",
       "      <td>480.400000</td>\n",
       "      <td>468.100000</td>\n",
       "      <td>408.900000</td>\n",
       "      <td>120.000000</td>\n",
       "      <td>100.000000</td>\n",
       "      <td>80.000000</td>\n",
       "      <td>100.000000</td>\n",
       "      <td>40.000000</td>\n",
       "      <td>440.000000</td>\n",
       "    </tr>\n",
       "    <tr>\n",
       "      <th>50%</th>\n",
       "      <td>19.000000</td>\n",
       "      <td>3.000000</td>\n",
       "      <td>1.000000</td>\n",
       "      <td>459.800000</td>\n",
       "      <td>532.000000</td>\n",
       "      <td>520.900000</td>\n",
       "      <td>461.200000</td>\n",
       "      <td>120.000000</td>\n",
       "      <td>120.000000</td>\n",
       "      <td>120.000000</td>\n",
       "      <td>120.000000</td>\n",
       "      <td>80.000000</td>\n",
       "      <td>540.000000</td>\n",
       "    </tr>\n",
       "    <tr>\n",
       "      <th>75%</th>\n",
       "      <td>23.000000</td>\n",
       "      <td>3.000000</td>\n",
       "      <td>2.000000</td>\n",
       "      <td>514.500000</td>\n",
       "      <td>581.200000</td>\n",
       "      <td>564.900000</td>\n",
       "      <td>537.600000</td>\n",
       "      <td>140.000000</td>\n",
       "      <td>120.000000</td>\n",
       "      <td>120.000000</td>\n",
       "      <td>120.000000</td>\n",
       "      <td>100.000000</td>\n",
       "      <td>600.000000</td>\n",
       "    </tr>\n",
       "    <tr>\n",
       "      <th>max</th>\n",
       "      <td>67.000000</td>\n",
       "      <td>5.000000</td>\n",
       "      <td>4.000000</td>\n",
       "      <td>806.400000</td>\n",
       "      <td>807.000000</td>\n",
       "      <td>763.600000</td>\n",
       "      <td>952.000000</td>\n",
       "      <td>200.000000</td>\n",
       "      <td>200.000000</td>\n",
       "      <td>200.000000</td>\n",
       "      <td>200.000000</td>\n",
       "      <td>200.000000</td>\n",
       "      <td>1000.000000</td>\n",
       "    </tr>\n",
       "  </tbody>\n",
       "</table>\n",
       "</div>"
      ],
      "text/plain": [
       "           NU_IDADE   TP_COR_RACA     TP_ESCOLA    NU_NOTA_CN    NU_NOTA_CH  \\\n",
       "count  13730.000000  13730.000000  13730.000000  10341.000000  10341.000000   \n",
       "mean      21.593809      2.185652      1.353532    473.495155    529.661087   \n",
       "std        7.043654      1.007285      0.558472     71.093674     73.726344   \n",
       "min       13.000000      0.000000      1.000000      0.000000      0.000000   \n",
       "25%       17.000000      1.000000      1.000000    419.900000    480.400000   \n",
       "50%       19.000000      3.000000      1.000000    459.800000    532.000000   \n",
       "75%       23.000000      3.000000      2.000000    514.500000    581.200000   \n",
       "max       67.000000      5.000000      4.000000    806.400000    807.000000   \n",
       "\n",
       "         NU_NOTA_LC    NU_NOTA_MT  NU_NOTA_COMP1  NU_NOTA_COMP2  \\\n",
       "count  10133.000000  10133.000000   10133.000000   10133.000000   \n",
       "mean     516.472841    482.497928     119.811704     111.915918   \n",
       "std       68.688190     99.826323      29.846017      33.737588   \n",
       "min        0.000000      0.000000       0.000000       0.000000   \n",
       "25%      468.100000    408.900000     120.000000     100.000000   \n",
       "50%      520.900000    461.200000     120.000000     120.000000   \n",
       "75%      564.900000    537.600000     140.000000     120.000000   \n",
       "max      763.600000    952.000000     200.000000     200.000000   \n",
       "\n",
       "       NU_NOTA_COMP3  NU_NOTA_COMP4  NU_NOTA_COMP5  NU_NOTA_REDACAO  \n",
       "count   10133.000000   10133.000000   10133.000000     10133.000000  \n",
       "mean      106.824238     113.123951      77.372446       529.048258  \n",
       "std        34.341349      33.480033      43.067140       154.294758  \n",
       "min         0.000000       0.000000       0.000000         0.000000  \n",
       "25%        80.000000     100.000000      40.000000       440.000000  \n",
       "50%       120.000000     120.000000      80.000000       540.000000  \n",
       "75%       120.000000     120.000000     100.000000       600.000000  \n",
       "max       200.000000     200.000000     200.000000      1000.000000  "
      ]
     },
     "execution_count": 26,
     "metadata": {},
     "output_type": "execute_result"
    }
   ],
   "source": [
    "# vendo max, min, mean e etc!\n",
    "calculo = df_train1.describe()\n",
    "calculo"
   ]
  },
  {
   "cell_type": "code",
   "execution_count": 27,
   "metadata": {},
   "outputs": [
    {
     "data": {
      "text/plain": [
       "NU_IDADE          -0.061485\n",
       "TP_COR_RACA       -0.157364\n",
       "TP_ESCOLA          0.069304\n",
       "NU_NOTA_CN         0.584941\n",
       "NU_NOTA_CH         0.529594\n",
       "NU_NOTA_LC         0.494695\n",
       "NU_NOTA_COMP1      0.299402\n",
       "NU_NOTA_COMP2      0.335638\n",
       "NU_NOTA_COMP3      0.350307\n",
       "NU_NOTA_COMP4      0.342282\n",
       "NU_NOTA_COMP5      0.343337\n",
       "NU_NOTA_REDACAO    0.379376\n",
       "Name: NU_NOTA_MT, dtype: float64"
      ]
     },
     "execution_count": 27,
     "metadata": {},
     "output_type": "execute_result"
    }
   ],
   "source": [
    "# Irei filtrar features de correlações para ver se o modelo vai ficar legal\n",
    "melhores = df_train1.corr()\n",
    "features = melhores[(melhores['NU_NOTA_MT'] <= 0.1) | (melhores['NU_NOTA_MT'] >= 0.1)\n",
    "        & (melhores['NU_NOTA_MT'] < 1.0)]['NU_NOTA_MT']\n",
    "features"
   ]
  },
  {
   "cell_type": "code",
   "execution_count": 28,
   "metadata": {},
   "outputs": [
    {
     "data": {
      "text/plain": [
       "<matplotlib.axes._subplots.AxesSubplot at 0x24957953288>"
      ]
     },
     "execution_count": 28,
     "metadata": {},
     "output_type": "execute_result"
    },
    {
     "data": {
      "image/png": "[encoded data removed]",
      "text/plain": [
       "<Figure size 720x792 with 2 Axes>"
      ]
     },
     "metadata": {
      "needs_background": "light"
     },
     "output_type": "display_data"
    }
   ],
   "source": [
    "# grafico que vai desmonstrar a relacao das colunas\n",
    "features_list = features.index.to_list()\n",
    "corr = df_train1[features_list].corr()\n",
    "ax = plt.subplots(figsize=(10, 11))\n",
    "sns.heatmap(corr,  annot=True, annot_kws={\"size\": 11},cmap=\"YlGnBu\")"
   ]
  },
  {
   "cell_type": "code",
   "execution_count": 29,
   "metadata": {},
   "outputs": [
    {
     "data": {
      "text/plain": [
       "NU_IDADE           13730\n",
       "TP_COR_RACA        13730\n",
       "TP_ESCOLA          13730\n",
       "NU_NOTA_CN         10341\n",
       "NU_NOTA_CH         10341\n",
       "NU_NOTA_LC         10133\n",
       "NU_NOTA_MT         10133\n",
       "NU_NOTA_COMP1      10133\n",
       "NU_NOTA_COMP2      10133\n",
       "NU_NOTA_COMP3      10133\n",
       "NU_NOTA_COMP4      10133\n",
       "NU_NOTA_COMP5      10133\n",
       "NU_NOTA_REDACAO    10133\n",
       "dtype: int64"
      ]
     },
     "execution_count": 29,
     "metadata": {},
     "output_type": "execute_result"
    }
   ],
   "source": [
    "#contagem dos nao nulos\n",
    "df_train1.count()"
   ]
  },
  {
   "cell_type": "code",
   "execution_count": 30,
   "metadata": {},
   "outputs": [],
   "source": [
    "# excluindo valores null's, mas nesse caso vou utilizar as medias e fazer a atribuição\n",
    "# nas linhas que estão com NAN\n",
    "df_train1 = df_train1.loc[(df_train1['NU_NOTA_CN'].notnull())]"
   ]
  },
  {
   "cell_type": "code",
   "execution_count": 31,
   "metadata": {},
   "outputs": [
    {
     "data": {
      "text/plain": [
       "NU_IDADE           4576\n",
       "TP_COR_RACA        4576\n",
       "TP_ESCOLA          4576\n",
       "NU_NOTA_CN         3442\n",
       "NU_NOTA_CH         3442\n",
       "NU_NOTA_LC         3377\n",
       "NU_NOTA_COMP1      3377\n",
       "NU_NOTA_COMP2      3377\n",
       "NU_NOTA_COMP3      3377\n",
       "NU_NOTA_COMP4      3377\n",
       "NU_NOTA_COMP5      3377\n",
       "NU_NOTA_REDACAO    3377\n",
       "dtype: int64"
      ]
     },
     "execution_count": 31,
     "metadata": {},
     "output_type": "execute_result"
    }
   ],
   "source": [
    "# contagem dos nao nulos\n",
    "df_test1.count()"
   ]
  },
  {
   "cell_type": "code",
   "execution_count": 32,
   "metadata": {},
   "outputs": [],
   "source": [
    " #calculando a media fazendo de dois jeitos \n",
    " #1) \n",
    "df_train1['NU_NOTA_CN'].fillna(df_train1['NU_NOTA_CN'].mean(), inplace=True)\n",
    "df_test1['NU_NOTA_CN'].fillna(df_test1['NU_NOTA_CN'].mean(), inplace=True)\n"
   ]
  },
  {
   "cell_type": "code",
   "execution_count": 33,
   "metadata": {},
   "outputs": [],
   "source": [
    "features_list.append('NU_NOTA_MT')"
   ]
  },
  {
   "cell_type": "code",
   "execution_count": 34,
   "metadata": {},
   "outputs": [],
   "source": [
    "#2 bom sem duvidas esse é a melhor opcao até mesmo porque se focemos \n",
    "# aderir a primeira iriamos fazer uma a uma e isso levaria tempo \n",
    "df1_train = df_train1.copy()\n",
    "df1_test = df_test1.copy()\n",
    "\n",
    "def zerandoColunas(data):\n",
    "    for item in features_list:\n",
    "        data[item] = data[item].fillna(0)\n",
    "    return data\n",
    "df1_train = zerandoColunas(df1_train)\n",
    "df1_test = df1_test.fillna(0)\n"
   ]
  },
  {
   "cell_type": "code",
   "execution_count": 35,
   "metadata": {},
   "outputs": [],
   "source": [
    "# Agora vamos atribuir as medias das colunas\n",
    "df2_train = df_train1.copy()\n",
    "df2_test = df_test1.copy()\n",
    "\n",
    "def mediaColunas(data):\n",
    "    for item in features_list:\n",
    "        data[item] = data[item].fillna(data[item].mean())\n",
    "    return data\n",
    "\n",
    "df2_train = mediaColunas(df2_train)\n",
    "df2_test = df1_test.fillna(df2_test.mean())"
   ]
  },
  {
   "cell_type": "code",
   "execution_count": 36,
   "metadata": {},
   "outputs": [],
   "source": [
    "# Criando dataset de respostas\n",
    "df_result = pd.DataFrame()"
   ]
  },
  {
   "cell_type": "code",
   "execution_count": 37,
   "metadata": {},
   "outputs": [],
   "source": [
    "# Adicionando número de inscrição a ser salvo no arquivo de resposta final\n",
    "df_result['NU_INSCRICAO'] = df_test2['NU_INSCRICAO']"
   ]
  },
  {
   "cell_type": "code",
   "execution_count": 38,
   "metadata": {
    "scrolled": true
   },
   "outputs": [],
   "source": [
    "# Removendo a variável target\n",
    "features_list.remove('NU_NOTA_MT')"
   ]
  },
  {
   "cell_type": "code",
   "execution_count": 39,
   "metadata": {},
   "outputs": [],
   "source": [
    "x_train = df1_train[features_list]\n",
    "y_train = df1_train['NU_NOTA_MT']\n",
    "x_test = df1_test[features_list]"
   ]
  },
  {
   "cell_type": "code",
   "execution_count": 40,
   "metadata": {},
   "outputs": [],
   "source": [
    "pipe_RFR = Pipeline([('scaler',  StandardScaler()),\n",
    "            ('RandomForestRegressor', RandomForestRegressor())])"
   ]
  },
  {
   "cell_type": "code",
   "execution_count": 41,
   "metadata": {},
   "outputs": [],
   "source": [
    "CV_pipe_RFR = RandomizedSearchCV(estimator = pipe_RFR, param_distributions = {},\n",
    "                                 cv = 5,return_train_score=True, verbose=0)"
   ]
  },
  {
   "cell_type": "code",
   "execution_count": 42,
   "metadata": {},
   "outputs": [
    {
     "name": "stderr",
     "output_type": "stream",
     "text": [
      "C:\\Users\\rogerio\\Anaconda3\\lib\\site-packages\\sklearn\\model_selection\\_search.py:282: UserWarning: The total space of parameters 1 is smaller than n_iter=10. Running 1 iterations. For exhaustive searches, use GridSearchCV.\n",
      "  % (grid_size, self.n_iter, grid_size), UserWarning)\n"
     ]
    },
    {
     "data": {
      "text/plain": [
       "RandomizedSearchCV(cv=5,\n",
       "                   estimator=Pipeline(steps=[('scaler', StandardScaler()),\n",
       "                                             ('RandomForestRegressor',\n",
       "                                              RandomForestRegressor())]),\n",
       "                   param_distributions={}, return_train_score=True)"
      ]
     },
     "execution_count": 42,
     "metadata": {},
     "output_type": "execute_result"
    }
   ],
   "source": [
    "CV_pipe_RFR.fit(x_train, y_train)"
   ]
  },
  {
   "cell_type": "code",
   "execution_count": 43,
   "metadata": {},
   "outputs": [],
   "source": [
    "ypred2 = CV_pipe_RFR.predict(x_test)"
   ]
  },
  {
   "cell_type": "code",
   "execution_count": 44,
   "metadata": {},
   "outputs": [],
   "source": [
    "df_result['NU_NOTA_MT'] = np.around(ypred2,2)"
   ]
  },
  {
   "cell_type": "code",
   "execution_count": 45,
   "metadata": {},
   "outputs": [],
   "source": [
    "df_result.to_csv('answer10.csv', index=False, header=True)"
   ]
  },
  {
   "cell_type": "code",
   "execution_count": 46,
   "metadata": {},
   "outputs": [],
   "source": []
  },
  {
   "cell_type": "code",
   "execution_count": null,
   "metadata": {},
   "outputs": [],
   "source": []
  },
  {
   "cell_type": "code",
   "execution_count": null,
   "metadata": {},
   "outputs": [],
   "source": []
  },
  {
   "cell_type": "code",
   "execution_count": null,
   "metadata": {},
   "outputs": [],
   "source": []
  },
  {
   "cell_type": "code",
   "execution_count": null,
   "metadata": {},
   "outputs": [],
   "source": []
  }
 ],
 "metadata": {
  "kernelspec": {
   "display_name": "Python 3",
   "language": "python",
   "name": "python3"
  },
  "language_info": {
   "codemirror_mode": {
    "name": "ipython",
    "version": 3
   },
   "file_extension": ".py",
   "mimetype": "text/x-python",
   "name": "python",
   "nbconvert_exporter": "python",
   "pygments_lexer": "ipython3",
   "version": "3.7.7"
  }
 },
 "nbformat": 4,
 "nbformat_minor": 2
}
